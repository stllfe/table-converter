{
 "cells": [
  {
   "cell_type": "code",
   "execution_count": 1,
   "metadata": {},
   "outputs": [],
   "source": [
    "import pandas as pd\n",
    "\n",
    "import os\n",
    "import re\n",
    "\n",
    "from pathlib import Path\n",
    "from typing import *\n",
    "\n",
    "import sys\n",
    "sys.path.append('..')\n",
    "\n",
    "from src import utils\n",
    "\n",
    "%load_ext autoreload\n",
    "%autoreload 2 "
   ]
  },
  {
   "cell_type": "code",
   "execution_count": 2,
   "metadata": {},
   "outputs": [],
   "source": [
    "import src\n",
    "from src.tables import tables\n",
    "from src.core import run, Params"
   ]
  },
  {
   "cell_type": "code",
   "execution_count": 3,
   "metadata": {},
   "outputs": [],
   "source": [
    "sheet_name = 'rep_hiv_avrt_analyze'\n",
    "input_path = '../examples/input.xlsx'\n",
    "output_path = '../outputs/out.xlsx'"
   ]
  },
  {
   "cell_type": "code",
   "execution_count": 34,
   "metadata": {
    "scrolled": true
   },
   "outputs": [
    {
     "name": "stderr",
     "output_type": "stream",
     "text": [
      "C:\\Miniconda\\envs\\tables\\lib\\site-packages\\openpyxl\\styles\\stylesheet.py:226: UserWarning: Workbook contains no default style, apply openpyxl's default\n",
      "  warn(\"Workbook contains no default style, apply openpyxl's default\")\n"
     ]
    }
   ],
   "source": [
    "run(\n",
    "    Params(\n",
    "        sheet_name='rep_hiv_avrt_analyze',\n",
    "        input_path='../examples/input.xlsx',\n",
    "        output_path='../outputs/out2.xlsx',\n",
    "        pivot_tables=tables,\n",
    "    )\n",
    ")"
   ]
  },
  {
   "cell_type": "code",
   "execution_count": 72,
   "metadata": {},
   "outputs": [
    {
     "data": {
      "text/plain": [
       "PivotTable(name='Потребность в препаратах', fields=Fields(values=(Value(field='УНРЗ', name='Количество по полю УНРЗ', calculation=<Calculation.COUNT: 'count'>, number_format='0'), Value(field='Потребность на год (ЕИ)', name='Сумма по полю Потребность на год (ЕИ)', calculation=<Calculation.SUM: 'sum'>, number_format='0')), rows=('МНН+Дозировка',), columns=(), filters=()))"
      ]
     },
     "execution_count": 72,
     "metadata": {},
     "output_type": "execute_result"
    }
   ],
   "source": [
    "table = tables[-1]\n",
    "table"
   ]
  },
  {
   "cell_type": "code",
   "execution_count": 73,
   "metadata": {},
   "outputs": [
    {
     "data": {
      "text/plain": [
       "'Потребность в препаратах'"
      ]
     },
     "execution_count": 73,
     "metadata": {},
     "output_type": "execute_result"
    }
   ],
   "source": [
    "table.name"
   ]
  },
  {
   "cell_type": "code",
   "execution_count": 74,
   "metadata": {},
   "outputs": [],
   "source": [
    "import win32com.client as win32"
   ]
  },
  {
   "cell_type": "code",
   "execution_count": 103,
   "metadata": {},
   "outputs": [],
   "source": [
    "# create Excel object\n",
    "excel = win32.gencache.EnsureDispatch('Excel.Application')\n",
    "# excel can be visible or not\n",
    "excel.Visible = True \n",
    "# open Excel Workbook   \n",
    "wb = excel.Workbooks.Open(Path(output_path).resolve())"
   ]
  },
  {
   "cell_type": "code",
   "execution_count": 76,
   "metadata": {},
   "outputs": [],
   "source": [
    "win32c = win32.constants"
   ]
  },
  {
   "cell_type": "code",
   "execution_count": 77,
   "metadata": {},
   "outputs": [],
   "source": [
    "class PTField(NamedTuple):\n",
    "    field: str\n",
    "    name: str\n",
    "    calculation: object\n",
    "    number_format: str = '0'"
   ]
  },
  {
   "cell_type": "code",
   "execution_count": 78,
   "metadata": {},
   "outputs": [],
   "source": [
    "class PTFields(NamedTuple):\n",
    "    values: List[PTField]\n",
    "    rows: List[str] = tuple()\n",
    "    columns: List[str] = tuple()\n",
    "    filters: List[str] = tuple()"
   ]
  },
  {
   "cell_type": "code",
   "execution_count": 79,
   "metadata": {},
   "outputs": [],
   "source": [
    "def create_new_sheet(wb: object, name: str) -> object:\n",
    "    wb.Sheets.Add().Name = name\n",
    "    return wb.Sheets(name)"
   ]
  },
  {
   "cell_type": "code",
   "execution_count": 80,
   "metadata": {},
   "outputs": [],
   "source": [
    "def pivot_table(wb: object, ws: object, pt_ws: object, fields: PTFields, show_annotations: bool = False):\n",
    "    \"\"\"\n",
    "    wb = workbook1 reference\n",
    "    ws = worksheet1\n",
    "    pt_ws = pivot table worksheet\n",
    "    ws_name = pivot table worksheet name\n",
    "    pt_name = name given to pivot table\n",
    "    pt_rows, pt_cols, pt_filters, pt_fields: values selected for filling the pivot tables\n",
    "    \"\"\"\n",
    "\n",
    "    # pivot table location\n",
    "    pt_loc = len(fields.filters) + 2\n",
    "    \n",
    "    # grab the pivot table source data\n",
    "    pc = wb.PivotCaches().Create(SourceType=win32c.xlDatabase, SourceData=ws.UsedRange)\n",
    "    \n",
    "    # create the pivot table object\n",
    "    pc.CreatePivotTable(TableDestination=f\"'{pt_ws.Name}'!R{pt_loc}C1\", TableName=pt_ws.Name)\n",
    "\n",
    "    # selecte the pivot table work sheet and location to create the pivot table\n",
    "    pt_ws.Select()\n",
    "    pt_ws.Cells(pt_loc, 1).Select()\n",
    "\n",
    "    # Sets the rows, columns and filters of the pivot table\n",
    "    for field_list, field_r in ((fields.filters, win32c.xlPageField), (fields.rows, win32c.xlRowField), (fields.columns, win32c.xlColumnField)):\n",
    "        for i, value in enumerate(field_list):\n",
    "            pt_ws.PivotTables(pt_ws.Name).PivotFields(value).Orientation = field_r\n",
    "            pt_ws.PivotTables(pt_ws.Name).PivotFields(value).Position = i + 1\n",
    "\n",
    "    # Sets the Values of the pivot table\n",
    "    for value in fields.values:\n",
    "        field = (\n",
    "            pt_ws.PivotTables(pt_ws.Name)\n",
    "            .AddDataField(\n",
    "                pt_ws.PivotTables(pt_ws.Name).PivotFields(value.field), \n",
    "                value.name, \n",
    "                value.calculation\n",
    "            )\n",
    "        )\n",
    "        field.NumberFormat = value.number_format\n",
    "\n",
    "    # Visiblity True or Valse\n",
    "    pt_ws.PivotTables(pt_ws.Name).ShowValuesRow = show_annotations\n",
    "    pt_ws.PivotTables(pt_ws.Name).ColumnGrand = show_annotations"
   ]
  },
  {
   "cell_type": "code",
   "execution_count": 102,
   "metadata": {},
   "outputs": [],
   "source": [
    "wb.Close(True)"
   ]
  },
  {
   "cell_type": "code",
   "execution_count": 104,
   "metadata": {},
   "outputs": [],
   "source": [
    "ws = excel.Sheets('Исходный лист')"
   ]
  },
  {
   "cell_type": "code",
   "execution_count": 108,
   "metadata": {},
   "outputs": [],
   "source": [
    "src.excel.create_pivot_table(wb, ws, table)"
   ]
  },
  {
   "cell_type": "markdown",
   "metadata": {},
   "source": [
    "# Done"
   ]
  },
  {
   "cell_type": "code",
   "execution_count": 67,
   "metadata": {
    "pycharm": {
     "name": "#%%\n"
    }
   },
   "outputs": [],
   "source": [
    "out_1 = inp.copy()\n",
    "out_1['МНН+Дозировка'] = inp[['МНН', 'Дозировка']].apply(lambda r: ', '.join((r.МНН, r.Дозировка)), axis=1)"
   ]
  },
  {
   "cell_type": "code",
   "execution_count": 11,
   "metadata": {
    "pycharm": {
     "name": "#%%\n"
    }
   },
   "outputs": [],
   "source": [
    "inverse_columns_map = {v: k for k, v in columns_map.items()}\n",
    "agg_columns_map = {\n",
    "    'Количество по полю УНРЗ': ('УНРЗ', 'count'),\n",
    "    'Сумма по полю Потребность на год (ЕИ)': ('ПотребностьНаГодЕИ', 'sum'),\n",
    "}\n",
    "\n",
    "out_1 = (out_1\n",
    "    .groupby('МНН+Дозировка')\n",
    "    .agg(**agg_columns_map)\n",
    "    .reset_index()\n",
    ")"
   ]
  },
  {
   "cell_type": "code",
   "execution_count": 48,
   "metadata": {
    "pycharm": {
     "name": "#%%\n"
    }
   },
   "outputs": [],
   "source": [
    "out_2 = inp.copy()\n",
    "out_2['МНН+Дозировка'] = inp[['МНН', 'Дозировка']].apply(lambda r: ', '.join((r.МНН, r.Дозировка)), axis=1)"
   ]
  },
  {
   "cell_type": "code",
   "execution_count": 49,
   "metadata": {
    "pycharm": {
     "name": "#%%\n"
    }
   },
   "outputs": [
    {
     "data": {
      "text/html": [
       "<div>\n",
       "<style scoped>\n",
       "    .dataframe tbody tr th:only-of-type {\n",
       "        vertical-align: middle;\n",
       "    }\n",
       "\n",
       "    .dataframe tbody tr th {\n",
       "        vertical-align: top;\n",
       "    }\n",
       "\n",
       "    .dataframe thead tr th {\n",
       "        text-align: left;\n",
       "    }\n",
       "</style>\n",
       "<table border=\"1\" class=\"dataframe\">\n",
       "  <thead>\n",
       "    <tr>\n",
       "      <th></th>\n",
       "      <th>МНН+Дозировка</th>\n",
       "      <th colspan=\"2\" halign=\"left\">УНРЗ</th>\n",
       "    </tr>\n",
       "    <tr>\n",
       "      <th></th>\n",
       "      <th></th>\n",
       "      <th>Количество</th>\n",
       "      <th>Список</th>\n",
       "    </tr>\n",
       "  </thead>\n",
       "  <tbody>\n",
       "    <tr>\n",
       "      <th>0</th>\n",
       "      <td>Абакавир + Ламивудин, 600 мг + 300 мг; Атазана...</td>\n",
       "      <td>7</td>\n",
       "      <td>7010118818801, 7010217005713, 7010313736435, 7...</td>\n",
       "    </tr>\n",
       "    <tr>\n",
       "      <th>1</th>\n",
       "      <td>Абакавир + Ламивудин, 600 мг + 300 мг; Атазана...</td>\n",
       "      <td>4</td>\n",
       "      <td>7010217009003, 7010217012773, 7010217012779, 7...</td>\n",
       "    </tr>\n",
       "    <tr>\n",
       "      <th>2</th>\n",
       "      <td>Абакавир + Ламивудин, 600 мг + 300 мг; Дарунав...</td>\n",
       "      <td>5</td>\n",
       "      <td>6610617385511, 7010617253064, 7020617618031, 7...</td>\n",
       "    </tr>\n",
       "    <tr>\n",
       "      <th>3</th>\n",
       "      <td>Абакавир + Ламивудин, 600 мг + 300 мг; Долутег...</td>\n",
       "      <td>3</td>\n",
       "      <td>7010517101928, 7010618878384, 7010816607007</td>\n",
       "    </tr>\n",
       "    <tr>\n",
       "      <th>4</th>\n",
       "      <td>Абакавир + Ламивудин, 600 мг + 300 мг; Лопинав...</td>\n",
       "      <td>21</td>\n",
       "      <td>7010118818799, 7010211637908, 7010217005038, 7...</td>\n",
       "    </tr>\n",
       "    <tr>\n",
       "      <th>...</th>\n",
       "      <td>...</td>\n",
       "      <td>...</td>\n",
       "      <td>...</td>\n",
       "    </tr>\n",
       "    <tr>\n",
       "      <th>116</th>\n",
       "      <td>Ламивудин, 300 мг; Фосфазид, 400 мг; Эфавиренз...</td>\n",
       "      <td>1</td>\n",
       "      <td>7010612576990</td>\n",
       "    </tr>\n",
       "    <tr>\n",
       "      <th>117</th>\n",
       "      <td>Лопинавир + Ритонавир, 200 мг + 50 мг; Ралтегр...</td>\n",
       "      <td>2</td>\n",
       "      <td>7010117625856, 701022001049565</td>\n",
       "    </tr>\n",
       "    <tr>\n",
       "      <th>118</th>\n",
       "      <td>Лопинавир + Ритонавир, 200 мг + 50 мг; Тенофов...</td>\n",
       "      <td>1</td>\n",
       "      <td>7010515426736</td>\n",
       "    </tr>\n",
       "    <tr>\n",
       "      <th>119</th>\n",
       "      <td>Рилпивирин+ Тенофовир+ Эмтрицитабин, 25 мг + 3...</td>\n",
       "      <td>193</td>\n",
       "      <td>2220513757831, 7010113728932, 7010117626077, 7...</td>\n",
       "    </tr>\n",
       "    <tr>\n",
       "      <th>120</th>\n",
       "      <td>Тенофовир, 300 мг; Эмтрицитабин, 200 мг; Эфави...</td>\n",
       "      <td>13</td>\n",
       "      <td>7010118817846, 7010119936308, 701022001051866,...</td>\n",
       "    </tr>\n",
       "  </tbody>\n",
       "</table>\n",
       "<p>121 rows × 3 columns</p>\n",
       "</div>"
      ],
      "text/plain": [
       "                                         МНН+Дозировка       УНРЗ  \\\n",
       "                                                       Количество   \n",
       "0    Абакавир + Ламивудин, 600 мг + 300 мг; Атазана...          7   \n",
       "1    Абакавир + Ламивудин, 600 мг + 300 мг; Атазана...          4   \n",
       "2    Абакавир + Ламивудин, 600 мг + 300 мг; Дарунав...          5   \n",
       "3    Абакавир + Ламивудин, 600 мг + 300 мг; Долутег...          3   \n",
       "4    Абакавир + Ламивудин, 600 мг + 300 мг; Лопинав...         21   \n",
       "..                                                 ...        ...   \n",
       "116  Ламивудин, 300 мг; Фосфазид, 400 мг; Эфавиренз...          1   \n",
       "117  Лопинавир + Ритонавир, 200 мг + 50 мг; Ралтегр...          2   \n",
       "118  Лопинавир + Ритонавир, 200 мг + 50 мг; Тенофов...          1   \n",
       "119  Рилпивирин+ Тенофовир+ Эмтрицитабин, 25 мг + 3...        193   \n",
       "120  Тенофовир, 300 мг; Эмтрицитабин, 200 мг; Эфави...         13   \n",
       "\n",
       "                                                        \n",
       "                                                Список  \n",
       "0    7010118818801, 7010217005713, 7010313736435, 7...  \n",
       "1    7010217009003, 7010217012773, 7010217012779, 7...  \n",
       "2    6610617385511, 7010617253064, 7020617618031, 7...  \n",
       "3          7010517101928, 7010618878384, 7010816607007  \n",
       "4    7010118818799, 7010211637908, 7010217005038, 7...  \n",
       "..                                                 ...  \n",
       "116                                      7010612576990  \n",
       "117                     7010117625856, 701022001049565  \n",
       "118                                      7010515426736  \n",
       "119  2220513757831, 7010113728932, 7010117626077, 7...  \n",
       "120  7010118817846, 7010119936308, 701022001051866,...  \n",
       "\n",
       "[121 rows x 3 columns]"
      ]
     },
     "execution_count": 49,
     "metadata": {},
     "output_type": "execute_result"
    }
   ],
   "source": [
    "out_2 = (\n",
    "    out_2\n",
    "    .groupby('УНРЗ')\n",
    "    .agg({'МНН+Дозировка': lambda v: '; '.join(v)})\n",
    "    .reset_index()\n",
    "    .groupby('МНН+Дозировка')\n",
    "    .agg({'УНРЗ': ('count', ('Список', lambda v: ', '.join(v)))})\n",
    "    .reset_index()\n",
    "    .rename(columns={'count': 'Количество'})\n",
    "    .reset_index(drop=True)\n",
    ")\n",
    "out_2"
   ]
  },
  {
   "cell_type": "code",
   "execution_count": 42,
   "metadata": {},
   "outputs": [
    {
     "data": {
      "text/html": [
       "<div>\n",
       "<style scoped>\n",
       "    .dataframe tbody tr th:only-of-type {\n",
       "        vertical-align: middle;\n",
       "    }\n",
       "\n",
       "    .dataframe tbody tr th {\n",
       "        vertical-align: top;\n",
       "    }\n",
       "\n",
       "    .dataframe thead tr th {\n",
       "        text-align: left;\n",
       "    }\n",
       "\n",
       "    .dataframe thead tr:last-of-type th {\n",
       "        text-align: right;\n",
       "    }\n",
       "</style>\n",
       "<table border=\"1\" class=\"dataframe\">\n",
       "  <thead>\n",
       "    <tr>\n",
       "      <th></th>\n",
       "      <th colspan=\"2\" halign=\"left\">УНРЗ</th>\n",
       "    </tr>\n",
       "    <tr>\n",
       "      <th></th>\n",
       "      <th>Количество</th>\n",
       "      <th>Список УНРЗ</th>\n",
       "    </tr>\n",
       "    <tr>\n",
       "      <th>МНН+Дозировка</th>\n",
       "      <th></th>\n",
       "      <th></th>\n",
       "    </tr>\n",
       "  </thead>\n",
       "  <tbody>\n",
       "    <tr>\n",
       "      <th>Абакавир + Ламивудин, 600 мг + 300 мг; Атазанавир, 200 мг</th>\n",
       "      <td>7</td>\n",
       "      <td>7010118818801, 7010217005713, 7010313736435, 7...</td>\n",
       "    </tr>\n",
       "    <tr>\n",
       "      <th>Абакавир + Ламивудин, 600 мг + 300 мг; Атазанавир, 300 мг; Ритонавир, 100 мг</th>\n",
       "      <td>4</td>\n",
       "      <td>7010217009003, 7010217012773, 7010217012779, 7...</td>\n",
       "    </tr>\n",
       "    <tr>\n",
       "      <th>Абакавир + Ламивудин, 600 мг + 300 мг; Дарунавир, 600 мг; Ритонавир, 100 мг</th>\n",
       "      <td>5</td>\n",
       "      <td>6610617385511, 7010617253064, 7020617618031, 7...</td>\n",
       "    </tr>\n",
       "    <tr>\n",
       "      <th>Абакавир + Ламивудин, 600 мг + 300 мг; Долутегравир, 50 мг</th>\n",
       "      <td>3</td>\n",
       "      <td>7010517101928, 7010618878384, 7010816607007</td>\n",
       "    </tr>\n",
       "    <tr>\n",
       "      <th>Абакавир + Ламивудин, 600 мг + 300 мг; Лопинавир + Ритонавир, 200 мг + 50 мг</th>\n",
       "      <td>21</td>\n",
       "      <td>7010118818799, 7010211637908, 7010217005038, 7...</td>\n",
       "    </tr>\n",
       "    <tr>\n",
       "      <th>...</th>\n",
       "      <td>...</td>\n",
       "      <td>...</td>\n",
       "    </tr>\n",
       "    <tr>\n",
       "      <th>Ламивудин, 300 мг; Фосфазид, 400 мг; Эфавиренз, 600 мг</th>\n",
       "      <td>1</td>\n",
       "      <td>7010612576990</td>\n",
       "    </tr>\n",
       "    <tr>\n",
       "      <th>Лопинавир + Ритонавир, 200 мг + 50 мг; Ралтегравир, 400 мг</th>\n",
       "      <td>2</td>\n",
       "      <td>7010117625856, 701022001049565</td>\n",
       "    </tr>\n",
       "    <tr>\n",
       "      <th>Лопинавир + Ритонавир, 200 мг + 50 мг; Тенофовир, 300 мг; Фосфазид, 200 мг</th>\n",
       "      <td>1</td>\n",
       "      <td>7010515426736</td>\n",
       "    </tr>\n",
       "    <tr>\n",
       "      <th>Рилпивирин+ Тенофовир+ Эмтрицитабин, 25 мг + 300 мг + 200 мг</th>\n",
       "      <td>193</td>\n",
       "      <td>2220513757831, 7010113728932, 7010117626077, 7...</td>\n",
       "    </tr>\n",
       "    <tr>\n",
       "      <th>Тенофовир, 300 мг; Эмтрицитабин, 200 мг; Эфавиренз, 600 мг</th>\n",
       "      <td>13</td>\n",
       "      <td>7010118817846, 7010119936308, 701022001051866,...</td>\n",
       "    </tr>\n",
       "  </tbody>\n",
       "</table>\n",
       "<p>121 rows × 2 columns</p>\n",
       "</div>"
      ],
      "text/plain": [
       "                                                         УНРЗ  \\\n",
       "                                                   Количество   \n",
       "МНН+Дозировка                                                   \n",
       "Абакавир + Ламивудин, 600 мг + 300 мг; Атазанав...          7   \n",
       "Абакавир + Ламивудин, 600 мг + 300 мг; Атазанав...          4   \n",
       "Абакавир + Ламивудин, 600 мг + 300 мг; Дарунави...          5   \n",
       "Абакавир + Ламивудин, 600 мг + 300 мг; Долутегр...          3   \n",
       "Абакавир + Ламивудин, 600 мг + 300 мг; Лопинави...         21   \n",
       "...                                                       ...   \n",
       "Ламивудин, 300 мг; Фосфазид, 400 мг; Эфавиренз,...          1   \n",
       "Лопинавир + Ритонавир, 200 мг + 50 мг; Ралтегра...          2   \n",
       "Лопинавир + Ритонавир, 200 мг + 50 мг; Тенофови...          1   \n",
       "Рилпивирин+ Тенофовир+ Эмтрицитабин, 25 мг + 30...        193   \n",
       "Тенофовир, 300 мг; Эмтрицитабин, 200 мг; Эфавир...         13   \n",
       "\n",
       "                                                                                                       \n",
       "                                                                                          Список УНРЗ  \n",
       "МНН+Дозировка                                                                                          \n",
       "Абакавир + Ламивудин, 600 мг + 300 мг; Атазанав...  7010118818801, 7010217005713, 7010313736435, 7...  \n",
       "Абакавир + Ламивудин, 600 мг + 300 мг; Атазанав...  7010217009003, 7010217012773, 7010217012779, 7...  \n",
       "Абакавир + Ламивудин, 600 мг + 300 мг; Дарунави...  6610617385511, 7010617253064, 7020617618031, 7...  \n",
       "Абакавир + Ламивудин, 600 мг + 300 мг; Долутегр...        7010517101928, 7010618878384, 7010816607007  \n",
       "Абакавир + Ламивудин, 600 мг + 300 мг; Лопинави...  7010118818799, 7010211637908, 7010217005038, 7...  \n",
       "...                                                                                               ...  \n",
       "Ламивудин, 300 мг; Фосфазид, 400 мг; Эфавиренз,...                                      7010612576990  \n",
       "Лопинавир + Ритонавир, 200 мг + 50 мг; Ралтегра...                     7010117625856, 701022001049565  \n",
       "Лопинавир + Ритонавир, 200 мг + 50 мг; Тенофови...                                      7010515426736  \n",
       "Рилпивирин+ Тенофовир+ Эмтрицитабин, 25 мг + 30...  2220513757831, 7010113728932, 7010117626077, 7...  \n",
       "Тенофовир, 300 мг; Эмтрицитабин, 200 мг; Эфавир...  7010118817846, 7010119936308, 701022001051866,...  \n",
       "\n",
       "[121 rows x 2 columns]"
      ]
     },
     "execution_count": 42,
     "metadata": {},
     "output_type": "execute_result"
    }
   ],
   "source": [
    "out_2.set_index('МНН+Дозировка')"
   ]
  },
  {
   "cell_type": "code",
   "execution_count": 33,
   "metadata": {
    "pycharm": {
     "name": "#%%\n"
    }
   },
   "outputs": [],
   "source": [
    "# todo:\n",
    "# 1. сделать вывод результатов файл с тремя страницами\n",
    "# 2. сделать простенький GUI:\n",
    "#    - выбор исходного файла и названием целевого листа на нем\n",
    "#    - окошко со статусом преобразования / какой-то информацией об ошибках\n",
    "#    - выбор пути для сохранения нового файла\n",
    "\n",
    "out_path = Path('../outputs/')\n",
    "out_path.mkdir(parents=True, exist_ok=True)\n",
    "out_file = out_path / 'out.xlsx'\n",
    "\n",
    "try:\n",
    "    os.remove(out_file)\n",
    "except FileNotFoundError:\n",
    "    pass"
   ]
  },
  {
   "cell_type": "code",
   "execution_count": 28,
   "metadata": {},
   "outputs": [],
   "source": [
    "out_1.to_excel(\n",
    "    out_file,\n",
    "    sheet_name='Потребность в препаратах',\n",
    "    # engine=engine,\n",
    ")\n",
    "out_2.to_excel(\n",
    "    out_file,\n",
    "    sheet_name='Схемы',\n",
    "    # engine=engine,\n",
    ")\n",
    "inp.to_excel(\n",
    "    out_file,\n",
    "    sheet_name=sheet_name,\n",
    "    # engine=engine,\n",
    ")"
   ]
  },
  {
   "cell_type": "code",
   "execution_count": null,
   "metadata": {},
   "outputs": [],
   "source": [
    "inp"
   ]
  },
  {
   "cell_type": "code",
   "execution_count": 36,
   "metadata": {},
   "outputs": [],
   "source": [
    "from pandas import ExcelWriter\n",
    "from typing import Dict\n",
    "\n",
    "\n",
    "def save_xls(sheets: Dict[str, pd.DataFrame], path: str, **kwargs):\n",
    "    \"\"\"Save a dictionary of dataframes to an excel file, with each dataframe as a separate page.\"\"\"\n",
    "\n",
    "    with ExcelWriter(path) as writer:\n",
    "        for sheet, data in sheets.items():\n",
    "            data.to_excel(excel_writer=writer, sheet_name=sheet, **kwargs)"
   ]
  },
  {
   "cell_type": "code",
   "execution_count": 37,
   "metadata": {},
   "outputs": [
    {
     "ename": "NotImplementedError",
     "evalue": "Writing to Excel with MultiIndex columns and no index ('index'=False) is not yet implemented.",
     "output_type": "error",
     "traceback": [
      "\u001b[0;31m---------------------------------------------------------------------------\u001b[0m",
      "\u001b[0;31mNotImplementedError\u001b[0m                       Traceback (most recent call last)",
      "\u001b[0;32m/var/folders/b_/3_sbjmm13z10bww0pv9zld6c0000gn/T/ipykernel_4167/3755222483.py\u001b[0m in \u001b[0;36m<module>\u001b[0;34m\u001b[0m\n\u001b[0;32m----> 1\u001b[0;31m save_xls(\n\u001b[0m\u001b[1;32m      2\u001b[0m     sheets={\n\u001b[1;32m      3\u001b[0m         \u001b[0;34m'Потребность в препаратах'\u001b[0m\u001b[0;34m:\u001b[0m \u001b[0mout_1\u001b[0m\u001b[0;34m,\u001b[0m\u001b[0;34m\u001b[0m\u001b[0;34m\u001b[0m\u001b[0m\n\u001b[1;32m      4\u001b[0m         \u001b[0;34m'Схемы'\u001b[0m\u001b[0;34m:\u001b[0m \u001b[0mout_2\u001b[0m\u001b[0;34m,\u001b[0m\u001b[0;34m\u001b[0m\u001b[0;34m\u001b[0m\u001b[0m\n\u001b[1;32m      5\u001b[0m         sheet_name: inp.rename(columns={\n",
      "\u001b[0;32m/var/folders/b_/3_sbjmm13z10bww0pv9zld6c0000gn/T/ipykernel_4167/3718760895.py\u001b[0m in \u001b[0;36msave_xls\u001b[0;34m(sheets, path, **kwargs)\u001b[0m\n\u001b[1;32m      8\u001b[0m     \u001b[0;32mwith\u001b[0m \u001b[0mExcelWriter\u001b[0m\u001b[0;34m(\u001b[0m\u001b[0mpath\u001b[0m\u001b[0;34m)\u001b[0m \u001b[0;32mas\u001b[0m \u001b[0mwriter\u001b[0m\u001b[0;34m:\u001b[0m\u001b[0;34m\u001b[0m\u001b[0;34m\u001b[0m\u001b[0m\n\u001b[1;32m      9\u001b[0m         \u001b[0;32mfor\u001b[0m \u001b[0msheet\u001b[0m\u001b[0;34m,\u001b[0m \u001b[0mdata\u001b[0m \u001b[0;32min\u001b[0m \u001b[0msheets\u001b[0m\u001b[0;34m.\u001b[0m\u001b[0mitems\u001b[0m\u001b[0;34m(\u001b[0m\u001b[0;34m)\u001b[0m\u001b[0;34m:\u001b[0m\u001b[0;34m\u001b[0m\u001b[0;34m\u001b[0m\u001b[0m\n\u001b[0;32m---> 10\u001b[0;31m             \u001b[0mdata\u001b[0m\u001b[0;34m.\u001b[0m\u001b[0mto_excel\u001b[0m\u001b[0;34m(\u001b[0m\u001b[0mexcel_writer\u001b[0m\u001b[0;34m=\u001b[0m\u001b[0mwriter\u001b[0m\u001b[0;34m,\u001b[0m \u001b[0msheet_name\u001b[0m\u001b[0;34m=\u001b[0m\u001b[0msheet\u001b[0m\u001b[0;34m,\u001b[0m \u001b[0;34m**\u001b[0m\u001b[0mkwargs\u001b[0m\u001b[0;34m)\u001b[0m\u001b[0;34m\u001b[0m\u001b[0;34m\u001b[0m\u001b[0m\n\u001b[0m",
      "\u001b[0;32m~/Projects/table-converter/venv/lib/python3.8/site-packages/pandas/core/generic.py\u001b[0m in \u001b[0;36mto_excel\u001b[0;34m(self, excel_writer, sheet_name, na_rep, float_format, columns, header, index, index_label, startrow, startcol, engine, merge_cells, encoding, inf_rep, verbose, freeze_panes, storage_options)\u001b[0m\n\u001b[1;32m   2282\u001b[0m             \u001b[0minf_rep\u001b[0m\u001b[0;34m=\u001b[0m\u001b[0minf_rep\u001b[0m\u001b[0;34m,\u001b[0m\u001b[0;34m\u001b[0m\u001b[0;34m\u001b[0m\u001b[0m\n\u001b[1;32m   2283\u001b[0m         )\n\u001b[0;32m-> 2284\u001b[0;31m         formatter.write(\n\u001b[0m\u001b[1;32m   2285\u001b[0m             \u001b[0mexcel_writer\u001b[0m\u001b[0;34m,\u001b[0m\u001b[0;34m\u001b[0m\u001b[0;34m\u001b[0m\u001b[0m\n\u001b[1;32m   2286\u001b[0m             \u001b[0msheet_name\u001b[0m\u001b[0;34m=\u001b[0m\u001b[0msheet_name\u001b[0m\u001b[0;34m,\u001b[0m\u001b[0;34m\u001b[0m\u001b[0;34m\u001b[0m\u001b[0m\n",
      "\u001b[0;32m~/Projects/table-converter/venv/lib/python3.8/site-packages/pandas/io/formats/excel.py\u001b[0m in \u001b[0;36mwrite\u001b[0;34m(self, writer, sheet_name, startrow, startcol, freeze_panes, engine, storage_options)\u001b[0m\n\u001b[1;32m    838\u001b[0m \u001b[0;34m\u001b[0m\u001b[0m\n\u001b[1;32m    839\u001b[0m         \u001b[0;32mtry\u001b[0m\u001b[0;34m:\u001b[0m\u001b[0;34m\u001b[0m\u001b[0;34m\u001b[0m\u001b[0m\n\u001b[0;32m--> 840\u001b[0;31m             writer.write_cells(\n\u001b[0m\u001b[1;32m    841\u001b[0m                 \u001b[0mformatted_cells\u001b[0m\u001b[0;34m,\u001b[0m\u001b[0;34m\u001b[0m\u001b[0;34m\u001b[0m\u001b[0m\n\u001b[1;32m    842\u001b[0m                 \u001b[0msheet_name\u001b[0m\u001b[0;34m,\u001b[0m\u001b[0;34m\u001b[0m\u001b[0;34m\u001b[0m\u001b[0m\n",
      "\u001b[0;32m~/Projects/table-converter/venv/lib/python3.8/site-packages/pandas/io/excel/_openpyxl.py\u001b[0m in \u001b[0;36mwrite_cells\u001b[0;34m(self, cells, sheet_name, startrow, startcol, freeze_panes)\u001b[0m\n\u001b[1;32m    455\u001b[0m             )\n\u001b[1;32m    456\u001b[0m \u001b[0;34m\u001b[0m\u001b[0m\n\u001b[0;32m--> 457\u001b[0;31m         \u001b[0;32mfor\u001b[0m \u001b[0mcell\u001b[0m \u001b[0;32min\u001b[0m \u001b[0mcells\u001b[0m\u001b[0;34m:\u001b[0m\u001b[0;34m\u001b[0m\u001b[0;34m\u001b[0m\u001b[0m\n\u001b[0m\u001b[1;32m    458\u001b[0m             xcell = wks.cell(\n\u001b[1;32m    459\u001b[0m                 \u001b[0mrow\u001b[0m\u001b[0;34m=\u001b[0m\u001b[0mstartrow\u001b[0m \u001b[0;34m+\u001b[0m \u001b[0mcell\u001b[0m\u001b[0;34m.\u001b[0m\u001b[0mrow\u001b[0m \u001b[0;34m+\u001b[0m \u001b[0;36m1\u001b[0m\u001b[0;34m,\u001b[0m \u001b[0mcolumn\u001b[0m\u001b[0;34m=\u001b[0m\u001b[0mstartcol\u001b[0m \u001b[0;34m+\u001b[0m \u001b[0mcell\u001b[0m\u001b[0;34m.\u001b[0m\u001b[0mcol\u001b[0m \u001b[0;34m+\u001b[0m \u001b[0;36m1\u001b[0m\u001b[0;34m\u001b[0m\u001b[0;34m\u001b[0m\u001b[0m\n",
      "\u001b[0;32m~/Projects/table-converter/venv/lib/python3.8/site-packages/pandas/io/formats/excel.py\u001b[0m in \u001b[0;36mget_formatted_cells\u001b[0;34m(self)\u001b[0m\n\u001b[1;32m    775\u001b[0m \u001b[0;34m\u001b[0m\u001b[0m\n\u001b[1;32m    776\u001b[0m     \u001b[0;32mdef\u001b[0m \u001b[0mget_formatted_cells\u001b[0m\u001b[0;34m(\u001b[0m\u001b[0mself\u001b[0m\u001b[0;34m)\u001b[0m \u001b[0;34m->\u001b[0m \u001b[0mIterable\u001b[0m\u001b[0;34m[\u001b[0m\u001b[0mExcelCell\u001b[0m\u001b[0;34m]\u001b[0m\u001b[0;34m:\u001b[0m\u001b[0;34m\u001b[0m\u001b[0;34m\u001b[0m\u001b[0m\n\u001b[0;32m--> 777\u001b[0;31m         \u001b[0;32mfor\u001b[0m \u001b[0mcell\u001b[0m \u001b[0;32min\u001b[0m \u001b[0mitertools\u001b[0m\u001b[0;34m.\u001b[0m\u001b[0mchain\u001b[0m\u001b[0;34m(\u001b[0m\u001b[0mself\u001b[0m\u001b[0;34m.\u001b[0m\u001b[0m_format_header\u001b[0m\u001b[0;34m(\u001b[0m\u001b[0;34m)\u001b[0m\u001b[0;34m,\u001b[0m \u001b[0mself\u001b[0m\u001b[0;34m.\u001b[0m\u001b[0m_format_body\u001b[0m\u001b[0;34m(\u001b[0m\u001b[0;34m)\u001b[0m\u001b[0;34m)\u001b[0m\u001b[0;34m:\u001b[0m\u001b[0;34m\u001b[0m\u001b[0;34m\u001b[0m\u001b[0m\n\u001b[0m\u001b[1;32m    778\u001b[0m             \u001b[0mcell\u001b[0m\u001b[0;34m.\u001b[0m\u001b[0mval\u001b[0m \u001b[0;34m=\u001b[0m \u001b[0mself\u001b[0m\u001b[0;34m.\u001b[0m\u001b[0m_format_value\u001b[0m\u001b[0;34m(\u001b[0m\u001b[0mcell\u001b[0m\u001b[0;34m.\u001b[0m\u001b[0mval\u001b[0m\u001b[0;34m)\u001b[0m\u001b[0;34m\u001b[0m\u001b[0;34m\u001b[0m\u001b[0m\n\u001b[1;32m    779\u001b[0m             \u001b[0;32myield\u001b[0m \u001b[0mcell\u001b[0m\u001b[0;34m\u001b[0m\u001b[0;34m\u001b[0m\u001b[0m\n",
      "\u001b[0;32m~/Projects/table-converter/venv/lib/python3.8/site-packages/pandas/io/formats/excel.py\u001b[0m in \u001b[0;36m_format_header_mi\u001b[0;34m(self)\u001b[0m\n\u001b[1;32m    534\u001b[0m         \u001b[0;32mif\u001b[0m \u001b[0mself\u001b[0m\u001b[0;34m.\u001b[0m\u001b[0mcolumns\u001b[0m\u001b[0;34m.\u001b[0m\u001b[0mnlevels\u001b[0m \u001b[0;34m>\u001b[0m \u001b[0;36m1\u001b[0m\u001b[0;34m:\u001b[0m\u001b[0;34m\u001b[0m\u001b[0;34m\u001b[0m\u001b[0m\n\u001b[1;32m    535\u001b[0m             \u001b[0;32mif\u001b[0m \u001b[0;32mnot\u001b[0m \u001b[0mself\u001b[0m\u001b[0;34m.\u001b[0m\u001b[0mindex\u001b[0m\u001b[0;34m:\u001b[0m\u001b[0;34m\u001b[0m\u001b[0;34m\u001b[0m\u001b[0m\n\u001b[0;32m--> 536\u001b[0;31m                 raise NotImplementedError(\n\u001b[0m\u001b[1;32m    537\u001b[0m                     \u001b[0;34m\"Writing to Excel with MultiIndex columns and no \"\u001b[0m\u001b[0;34m\u001b[0m\u001b[0;34m\u001b[0m\u001b[0m\n\u001b[1;32m    538\u001b[0m                     \u001b[0;34m\"index ('index'=False) is not yet implemented.\"\u001b[0m\u001b[0;34m\u001b[0m\u001b[0;34m\u001b[0m\u001b[0m\n",
      "\u001b[0;31mNotImplementedError\u001b[0m: Writing to Excel with MultiIndex columns and no index ('index'=False) is not yet implemented."
     ]
    }
   ],
   "source": [
    "save_xls(\n",
    "    sheets={\n",
    "        'Потребность в препаратах': out_1,\n",
    "        'Схемы': out_2,\n",
    "        sheet_name: inp.rename(columns={\n",
    "            v: k for k, v in columns_map.items()\n",
    "        })\n",
    "    },\n",
    "    path=out_file,\n",
    "    index=False\n",
    ")"
   ]
  },
  {
   "cell_type": "markdown",
   "metadata": {},
   "source": [
    "## GUI"
   ]
  },
  {
   "cell_type": "code",
   "execution_count": 11,
   "metadata": {},
   "outputs": [],
   "source": [
    "import tkinter as tk\n",
    "from tkinter import ttk"
   ]
  },
  {
   "cell_type": "code",
   "execution_count": 5,
   "metadata": {},
   "outputs": [],
   "source": [
    "import tkinter\n",
    "from tkinter import messagebox\n",
    "\n",
    "app = tkinter.Tk()\n",
    "app.title(\"22_tkinter_advanced.py\")\n",
    "app.geometry(\"600x600\")\n",
    "\n",
    "check_widget = tkinter.Checkbutton(app, text=\"scan_port\", offvalue=2, onvalue=5)\n",
    "check_widget.pack()\n",
    "\n",
    "radio_widgetH = tkinter.Radiobutton(app, text=\"Homme\", value=2)\n",
    "radio_widgetF = tkinter.Radiobutton(app, text=\"Femme\", value=1)\n",
    "radio_widgetH.pack()\n",
    "radio_widgetF.pack()\n",
    "\n",
    "scale_widget = tkinter.Scale(app, from_=10, to=50, tickinterval=4+1)\n",
    "scale_widget.pack()\n",
    "\n",
    "spin_widget = tkinter.Spinbox(app, from_=5, to=100)\n",
    "spin_widget.pack()\n",
    "\n",
    "listbox_widget = tkinter.Listbox(app)\n",
    "listbox_widget.insert(1, \"Windows\")\n",
    "listbox_widget.insert(2, \"MacOS\")\n",
    "listbox_widget.insert(3, \"GNU/Linux\")\n",
    "listbox_widget.pack()\n",
    "\n",
    "def show_modal_windows_error():\n",
    "    messagebox.showerror(title=\"ERREUR\", message=\"Un probelème est survenu !\")\n",
    "\n",
    "button_error = tkinter.Button(app, text=\"Déclancheur D'érreur\", command=show_modal_windows_error)\n",
    "button_error.pack()\n",
    "\n",
    "def show_modal_windows_info():\n",
    "    messagebox.showinfo(title=\"INFO\", message=\"Une inforamtion fort utiles ;)\")\n",
    "\n",
    "button_info = tkinter.Button(app, text=\"Déclancheur d'info\", command=show_modal_windows_info)\n",
    "button_info.pack()\n",
    "\n",
    "def show_modal_windows_warning():\n",
    "    messagebox.showwarning(title=\"WARNING\", message=\"Ceci est un avertissement\")\n",
    "\n",
    "button_warning = tkinter.Button(app, text=\"Déclancheur d'alerte\", command=show_modal_windows_warning)\n",
    "button_warning.pack()\n",
    "\n",
    "def show_modal_windows_askquestion():\n",
    "    messagebox.askquestion(title=\"Confirm\", message=\"Etes vous vraiments sûr ?\")\n",
    "\n",
    "button_askquestion = tkinter.Button(app, text=\"askquestion\", command=show_modal_windows_askquestion)\n",
    "button_askquestion.pack()\n",
    "\n",
    "def show_modal_windows_askokcancel():\n",
    "    messagebox.askokcancel(title=\"Confirm\", message=\"Voulez vous vraiment quittez ?\")\n",
    "\n",
    "button_askokcancel = tkinter.Button(app, text=\"askokcancel\", command=show_modal_windows_askokcancel)\n",
    "button_askokcancel.pack()\n",
    "\n",
    "def show_modal_windows_askyesno():\n",
    "    messagebox.askyesno(title=\"Confirm\", message=\"C'est OUI où bien c'est NON\")\n",
    "\n",
    "button_askyesno = tkinter.Button(app, text=\"askyesno\", command=show_modal_windows_askyesno)\n",
    "button_askyesno.pack()\n",
    "\n",
    "def show_modal_windows_askretrycancel():\n",
    "    messagebox.askretrycancel(title=\"Retry ?\", message=\"Voulez vous réesayez ?\")\n",
    "\n",
    "button_askretrycancel = tkinter.Button(app, text=\"askretrycancel\", command=show_modal_windows_askretrycancel)\n",
    "button_askretrycancel.pack()\n",
    "\n",
    "app.mainloop()"
   ]
  },
  {
   "cell_type": "code",
   "execution_count": 4,
   "metadata": {},
   "outputs": [],
   "source": [
    "class Placeholder:\n",
    "    \n",
    "    def __init__(self, master, placeholder='', placeholdercolor='grey', color='black', **kwargs):\n",
    "        self.e = ttk.Entry(master, foreground=placeholdercolor, **kwargs)\n",
    "        self.e.bind('<FocusIn>', self.focus_in)\n",
    "        self.e.bind('<FocusOut>', self.focus_out)\n",
    "        self.e.insert(0, placeholder)\n",
    "        self.placeholder = placeholder\n",
    "        self.placeholdercolor = placeholdercolor\n",
    "        self.color = color\n",
    "\n",
    "    def pack(self, side=None, **kwargs):\n",
    "        self.e.pack(side=side, **kwargs)\n",
    "\n",
    "    def place(self, side=None, **kwargs):\n",
    "        self.e.place(side=side, **kwargs)\n",
    "\n",
    "    def grid(self, column=None, **kwargs):\n",
    "        self.e.grid(column=column, **kwargs)\n",
    "\n",
    "    def focus_in(self, e):\n",
    "        if self.e.get() == self.placeholder:\n",
    "            self.e.delete(0, tk.END)\n",
    "        self.e.configure(foreground=self.color)\n",
    "\n",
    "    def focus_out(self, e):\n",
    "        if self.e.get() == '':\n",
    "            self.e.configure(foreground=self.placeholdercolor)\n",
    "            self.e.delete(0, tk.END)\n",
    "            self.e.insert(0, self.placeholder)"
   ]
  },
  {
   "cell_type": "code",
   "execution_count": 50,
   "metadata": {},
   "outputs": [],
   "source": [
    "from ctypes import windll\n",
    "windll.shcore.SetProcessDpiAwareness(1)\n",
    "\n",
    "window = tk.Tk()\n",
    "window.title('Создание сводных отчетов')\n",
    "# window.geometry('344x244')\n",
    "window.resizable(False, False)\n",
    "\n",
    "frame = ttk.Frame(window, padding=12)\n",
    "frame.grid(column=0, row=0, sticky=(tk.N, tk.W, tk.E, tk.S))\n",
    "\n",
    "window.columnconfigure(0, weight=1)\n",
    "window.rowconfigure(0, weight=1)\n",
    "\n",
    "window.columnconfigure(1, weight=1)\n",
    "window.rowconfigure(1, weight=1)\n",
    "\n",
    "window.columnconfigure(2, weight=1)\n",
    "window.rowconfigure(2, weight=1)\n",
    "\n",
    "input_label = ttk.Label(frame, text='Путь до исходного файла', justify=tk.LEFT)\n",
    "input_label.grid(row=0, column=0, sticky=tk.W)\n",
    "\n",
    "input_path = tk.StringVar()\n",
    "input_entry = Placeholder(frame, justify=tk.LEFT, textvariable=input_path, width=32)\n",
    "input_entry.grid(row=1, column=0, columnspan=2, sticky=(tk.W, tk.E))\n",
    "\n",
    "sheet_name = tk.StringVar()\n",
    "sheet_label = ttk.Label(frame, text='Лист')\n",
    "sheet_label.grid(row=0, column=2, sticky=tk.W)\n",
    "\n",
    "sheet_entry = Placeholder(frame, placeholder='необязательно', justify=tk.LEFT, textvariable=sheet_name, width=16)\n",
    "sheet_entry.grid(row=1, column=2, sticky=tk.W)\n",
    "\n",
    "output_label = ttk.Label(frame, text='Путь сохранения результата', justify=tk.LEFT)\n",
    "output_label.grid(row=2, column=0, columnspan=2, sticky=tk.W)\n",
    "\n",
    "output_path = tk.StringVar()\n",
    "output_entry = Placeholder(frame, justify=tk.LEFT, textvariable=output_path, width=32)\n",
    "output_entry.grid(row=3, column=0, columnspan=2, sticky=(tk.W, tk.E))\n",
    "\n",
    "tables_label_frame = ttk.LabelFrame(frame, text='Отчеты')\n",
    "tables_label_frame.grid(row=4, column=0, columnspan=2, sticky=(tk.W, tk.E), ipadx=2, ipady=10)\n",
    "\n",
    "for child in frame.winfo_children(): \n",
    "    child.grid_configure(padx=4, pady=2)\n",
    "\n",
    "for idx, table in enumerate(('Потребность в препаратах', 'Схемы лечения')):\n",
    "    ttk.Checkbutton(tables_label_frame, text=table, onvalue=True).grid(row=5 + idx, column=0, sticky=tk.W)\n",
    "\n",
    "start = ttk.Button(frame, text='Запуск')\n",
    "start.grid(row=7, column=1, sticky=(tk.W, tk.E), padx=4, pady=16)\n",
    "\n",
    "cancel = ttk.Button(frame, text='Закрыть')\n",
    "cancel.grid(row=7, column=2, sticky=(tk.W, tk.E), padx=4, pady=16)\n",
    "\n",
    "start.configure(width=16)\n",
    "\n",
    "window.mainloop()"
   ]
  },
  {
   "cell_type": "code",
   "execution_count": 5,
   "metadata": {},
   "outputs": [],
   "source": [
    "from src.tables import tables\n",
    "from src.gui import GUI"
   ]
  },
  {
   "cell_type": "code",
   "execution_count": null,
   "metadata": {},
   "outputs": [],
   "source": [
    "tk.f"
   ]
  },
  {
   "cell_type": "code",
   "execution_count": 7,
   "metadata": {},
   "outputs": [],
   "source": [
    "class TkinterGUI(GUI):\n",
    "    \n",
    "    def configure(self) -> None:\n",
    "        self.input_entry.configure()\n",
    "    \n",
    "    def create(self) -> GUI:\n",
    "        from ctypes import windll\n",
    "        windll.shcore.SetProcessDpiAwareness(1)\n",
    "\n",
    "        self.window = tk.Tk()\n",
    "        self.window.title('Создание сводных отчетов')\n",
    "        self.window.resizable(False, False)\n",
    "\n",
    "        self.frame = ttk.Frame(self.window, padding=12)\n",
    "        self.frame.grid(column=0, row=0, sticky=(tk.N, tk.W, tk.E, tk.S))\n",
    "\n",
    "        self.window.columnconfigure(0, weight=1)\n",
    "        self.window.rowconfigure(0, weight=1)\n",
    "\n",
    "        self.window.columnconfigure(1, weight=1)\n",
    "        self.window.rowconfigure(1, weight=1)\n",
    "\n",
    "        self.window.columnconfigure(2, weight=1)\n",
    "        self.window.rowconfigure(2, weight=1)\n",
    "\n",
    "        self.input_label = ttk.Label(self.frame, text='Путь до исходного файла', justify=tk.LEFT)\n",
    "        self.input_label.grid(row=0, column=0, sticky=tk.W)\n",
    "\n",
    "        self.input_path = tk.StringVar()\n",
    "        self.input_entry = Placeholder(self.frame, justify=tk.LEFT, textvariable=self.input_path, width=32)\n",
    "        self.input_entry.grid(row=1, column=0, columnspan=2, sticky=(tk.W, tk.E))\n",
    "\n",
    "        self.sheet_name = tk.StringVar()\n",
    "        self.sheet_label = ttk.Label(self.frame, text='Лист')\n",
    "        self.sheet_label.grid(row=0, column=2, sticky=tk.W)\n",
    "\n",
    "        self.sheet_entry = Placeholder(self.frame, placeholder='необязательно', justify=tk.LEFT, textvariable=self.sheet_name, width=16)\n",
    "        self.sheet_entry.grid(row=1, column=2, sticky=tk.W)\n",
    "\n",
    "        self.output_label = ttk.Label(self.frame, text='Путь сохранения результата', justify=tk.LEFT)\n",
    "        self.output_label.grid(row=2, column=0, columnspan=2, sticky=tk.W)\n",
    "\n",
    "        self.output_path = tk.StringVar()\n",
    "        self.output_entry = Placeholder(self.frame, justify=tk.LEFT, textvariable=self.output_path, width=32)\n",
    "        self.output_entry.grid(row=3, column=0, columnspan=2, sticky=(tk.W, tk.E))\n",
    "\n",
    "        self.tables_label_frame = ttk.LabelFrame(self.frame, text='Отчеты')\n",
    "        self.tables_label_frame.grid(row=4, column=0, columnspan=2, sticky=(tk.W, tk.E), ipadx=2, ipady=10)\n",
    "\n",
    "        for child in self.frame.winfo_children(): \n",
    "            child.grid_configure(padx=4, pady=2)\n",
    "\n",
    "        for idx, table in enumerate(self._available_tables):\n",
    "            ttk.Checkbutton(self.tables_label_frame, text=table.name, onvalue=True).grid(row=5 + idx, column=0, sticky=tk.W)\n",
    "\n",
    "        self.start = ttk.Button(self.frame, text='Запуск', width=16)\n",
    "        self.start.grid(row=7, column=1, sticky=(tk.W, tk.E), padx=4, pady=16)\n",
    "\n",
    "        self.cancel = ttk.Button(self.frame, text='Закрыть')\n",
    "        self.cancel.grid(row=7, column=2, sticky=(tk.W, tk.E), padx=4, pady=16)\n",
    "\n",
    "        self.window.mainloop()"
   ]
  },
  {
   "cell_type": "code",
   "execution_count": 10,
   "metadata": {},
   "outputs": [],
   "source": [
    "with TkinterGUI(tables) as gui:\n",
    "    pass"
   ]
  },
  {
   "cell_type": "code",
   "execution_count": null,
   "metadata": {},
   "outputs": [],
   "source": []
  }
 ],
 "metadata": {
  "kernelspec": {
   "display_name": "Python 3 (ipykernel)",
   "language": "python",
   "name": "python3"
  },
  "language_info": {
   "codemirror_mode": {
    "name": "ipython",
    "version": 3
   },
   "file_extension": ".py",
   "mimetype": "text/x-python",
   "name": "python",
   "nbconvert_exporter": "python",
   "pygments_lexer": "ipython3",
   "version": "3.7.13"
  }
 },
 "nbformat": 4,
 "nbformat_minor": 4
}
